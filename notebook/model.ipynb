{
 "cells": [
  {
   "cell_type": "markdown",
   "metadata": {},
   "source": [
    "# Importing some packages"
   ]
  },
  {
   "cell_type": "code",
   "execution_count": 5,
   "metadata": {},
   "outputs": [],
   "source": [
    "import pandas as pd\n",
    "import numpy as np\n",
    "\n",
    "from sklearn.impute import SimpleImputer\n",
    "from sklearn.preprocessing import StandardScaler, OrdinalEncoder\n",
    "from sklearn.pipeline import Pipeline\n",
    "from sklearn.compose import ColumnTransformer\n",
    "from sklearn.model_selection import train_test_split, KFold, StratifiedKFold, RandomizedSearchCV, GridSearchCV\n",
    "from sklearn.linear_model import Lasso, Ridge\n",
    "from sklearn.feature_selection import VarianceThreshold\n",
    "from sklearn.feature_selection import SequentialFeatureSelector\n",
    "from sklearn.feature_selection import RFE\n",
    "from sklearn.feature_selection import r_regression, SelectKBest\n",
    "from sklearn.feature_selection import mutual_info_regression\n",
    "from sklearn.feature_selection import f_classif\n",
    "from sklearn.feature_selection import RFECV\n",
    "from sklearn.ensemble import RandomForestRegressor\n",
    "from sklearn.metrics import mean_squared_error, mean_absolute_error, explained_variance_score\n",
    "\n",
    "from xgboost import XGBRegressor\n",
    "\n",
    "from lightgbm import LGBMRegressor\n",
    "\n",
    "from scipy import stats\n",
    "\n",
    "from statsmodels.stats.outliers_influence import variance_inflation_factor\n",
    "\n",
    "from boruta import BorutaPy\n",
    "\n",
    "from BorutaShap import BorutaShap\n",
    "\n",
    "from collections import Counter\n",
    "\n",
    "import shap\n",
    "\n",
    "import os\n",
    "from pathlib import Path\n",
    "\n",
    "from bisect import bisect\n",
    "\n",
    "import re\n",
    "\n",
    "import warnings \n",
    "warnings.filterwarnings('ignore')"
   ]
  },
  {
   "cell_type": "markdown",
   "metadata": {},
   "source": [
    "# Loading data"
   ]
  },
  {
   "cell_type": "code",
   "execution_count": 2,
   "metadata": {},
   "outputs": [],
   "source": [
    "data_path = Path(r\"C:/\\Users/\\vchar/\\OneDrive/\\Desktop/\\ML Projects/\\portfolio/\\VehicleLoanDefault/\\data\")\n",
    "\n",
    "train_df = pd.read_csv(os.path.join(data_path, 'train.csv'))\n",
    "test_df = pd.read_csv(os.path.join(data_path, 'test.csv'))"
   ]
  },
  {
   "cell_type": "markdown",
   "metadata": {},
   "source": [
    "# Feature engineering"
   ]
  },
  {
   "cell_type": "markdown",
   "metadata": {},
   "source": [
    "## Creating some features"
   ]
  },
  {
   "cell_type": "code",
   "execution_count": 6,
   "metadata": {},
   "outputs": [
    {
     "data": {
      "text/plain": [
       "{'No Bureau History Available': 1,\n",
       " 'I-Medium Risk': 2,\n",
       " 'L-Very High Risk': 3,\n",
       " 'A-Very Low Risk': 4,\n",
       " 'Not Scored: Not Enough Info available on the customer': 5,\n",
       " 'D-Very Low Risk': 6,\n",
       " 'M-Very High Risk': 7,\n",
       " 'B-Very Low Risk': 8,\n",
       " 'C-Very Low Risk': 9,\n",
       " 'E-Low Risk': 10,\n",
       " 'H-Medium Risk': 11,\n",
       " 'F-Low Risk': 12,\n",
       " 'K-High Risk': 13,\n",
       " 'Not Scored: No Activity seen on the customer (Inactive)': 14,\n",
       " 'Not Scored: Sufficient History Not Available': 15,\n",
       " 'Not Scored: No Updates available in last 36 months': 16,\n",
       " 'G-Low Risk': 17,\n",
       " 'J-High Risk': 18,\n",
       " 'Not Scored: Only a Guarantor': 19,\n",
       " 'Not Scored: More than 50 active Accounts found': 20}"
      ]
     },
     "execution_count": 6,
     "metadata": {},
     "output_type": "execute_result"
    }
   ],
   "source": [
    "signs = [(1,20,\"Cap\"), (2,18,\"Aqu\"), (3,20,\"Pis\"), (4,20,\"Ari\"),\n",
    "         (5,21,\"Tau\"), (6,21,\"Gem\"), (7,22,\"Can\"), (8,23,\"Leo\"),\n",
    "         (9,23,\"Vir\"), (10,23,\"Lib\"), (11,22,\"Sco\"), (12,22,\"Sag\"),\n",
    "         (12,31,\"Cap\")]\n",
    "\n",
    "def zodiac_sign(m,d):\n",
    "    return signs[bisect(signs,(m,d))][2]\n",
    "\n",
    "train_df['DisbursalDate'] = pd.to_datetime(train_df['DisbursalDate'])#, format=\"%Y-%m-%d\")\n",
    "train_df['Date.of.Birth'] = pd.to_datetime(train_df['Date.of.Birth'])#, format=\"%Y-%m-%d\")\n",
    "train_df['age'] = round((train_df['DisbursalDate'] - train_df['Date.of.Birth']).dt.days / 365, 1)\n",
    "\n",
    "train_df['disb_month'] = train_df['DisbursalDate'].dt.month\n",
    "train_df['zodiac_sign'] = train_df['Date.of.Birth'].apply(lambda x: zodiac_sign(x.month, x.day))\n",
    "\n",
    "def convert2numbers(x):\n",
    "    derived_numbers = re.findall(r'(\\d+)yrs (\\d+)mon', x)\n",
    "    return round(int(derived_numbers[0][0]) + int(derived_numbers[0][1]) / 12, 2)\n",
    "\n",
    "train_df['avg_loan_tenure'] = train_df['AVERAGE.ACCT.AGE'].apply(convert2numbers)\n",
    "train_df['hist_length'] = train_df['CREDIT.HISTORY.LENGTH'].apply(convert2numbers)\n",
    "\n",
    "score_desc_list = list(train_df['PERFORM_CNS.SCORE.DESCRIPTION'].unique())\n",
    "score_desc_map_dict = {score_desc_list[i]: i+1 for i in range(len(score_desc_list))}\n",
    "\n",
    "train_df['score_desc'] = train_df['PERFORM_CNS.SCORE.DESCRIPTION'].map(score_desc_map_dict)\n",
    "\n",
    "train_df['Employment.Type'].fillna('Unknown', inplace=True)\n",
    "\n",
    "employment_type_list = list(train_df['Employment.Type'].unique())\n",
    "employment_type_map_dict = {employment_type_list[i]: i+1 for i in range(len(employment_type_list))}\n",
    "\n",
    "train_df['Employment.Type'] = train_df['Employment.Type'].map(employment_type_map_dict)\n",
    "\n",
    "train_df.drop(\n",
    "    columns=[\n",
    "        'DisbursalDate', 'Date.of.Birth', \n",
    "        'AVERAGE.ACCT.AGE', 'CREDIT.HISTORY.LENGTH',\n",
    "        'PERFORM_CNS.SCORE.DESCRIPTION'\n",
    "    ], \n",
    "    inplace=True\n",
    ")\n",
    "\n",
    "score_desc_map_dict"
   ]
  },
  {
   "cell_type": "code",
   "execution_count": 8,
   "metadata": {},
   "outputs": [
    {
     "data": {
      "text/plain": [
       "{'Salaried': 1, 'Self employed': 2, 'Unknown': 3}"
      ]
     },
     "execution_count": 8,
     "metadata": {},
     "output_type": "execute_result"
    }
   ],
   "source": [
    "employment_type_map_dict"
   ]
  },
  {
   "cell_type": "code",
   "execution_count": 7,
   "metadata": {},
   "outputs": [],
   "source": [
    "test_df['DisbursalDate'] = pd.to_datetime(test_df['DisbursalDate'])#, format=\"%d-%m-%Y\")\n",
    "test_df['Date.of.Birth'] = pd.to_datetime(test_df['Date.of.Birth'])#, format=\"%d-%m-%Y\")\n",
    "test_df['age'] = round((test_df['DisbursalDate'] - test_df['Date.of.Birth']).dt.days / 365, 1)\n",
    "\n",
    "test_df['disb_month'] = test_df['DisbursalDate'].dt.month\n",
    "test_df['zodiac_sign'] = test_df['Date.of.Birth'].apply(lambda x: zodiac_sign(x.month, x.day))\n",
    "\n",
    "test_df['avg_loan_tenure'] = test_df['AVERAGE.ACCT.AGE'].apply(convert2numbers)\n",
    "test_df['hist_length'] = test_df['CREDIT.HISTORY.LENGTH'].apply(convert2numbers)\n",
    "\n",
    "test_df['score_desc'] = test_df['PERFORM_CNS.SCORE.DESCRIPTION'].map(score_desc_map_dict)\n",
    "\n",
    "test_df['Employment.Type'].fillna('Unknown', inplace=True)\n",
    "\n",
    "test_df['Employment.Type'] = test_df['Employment.Type'].map(employment_type_map_dict)\n",
    "\n",
    "test_df.drop(\n",
    "    columns=[\n",
    "        'DisbursalDate', 'Date.of.Birth', \n",
    "        'AVERAGE.ACCT.AGE', 'CREDIT.HISTORY.LENGTH',\n",
    "        'PERFORM_CNS.SCORE.DESCRIPTION'\n",
    "    ], \n",
    "    inplace=True\n",
    ")"
   ]
  },
  {
   "cell_type": "code",
   "execution_count": null,
   "metadata": {},
   "outputs": [],
   "source": []
  }
 ],
 "metadata": {
  "kernelspec": {
   "display_name": "ml_projects",
   "language": "python",
   "name": "python3"
  },
  "language_info": {
   "codemirror_mode": {
    "name": "ipython",
    "version": 3
   },
   "file_extension": ".py",
   "mimetype": "text/x-python",
   "name": "python",
   "nbconvert_exporter": "python",
   "pygments_lexer": "ipython3",
   "version": "3.10.14"
  }
 },
 "nbformat": 4,
 "nbformat_minor": 2
}
